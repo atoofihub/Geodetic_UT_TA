{
 "cells": [
  {
   "cell_type": "code",
   "execution_count": null,
   "metadata": {},
   "outputs": [
    {
     "name": "stdout",
     "output_type": "stream",
     "text": [
      "مقدار اولیه برای P: [270.71       256.90333333]\n",
      "همگرایی در تکرار 4\n",
      "مختصات نهایی نقطه P: [270.70292544 270.72335661]\n",
      "فواصل محاسبه‌شده از P به نقاط کنترل: [99.98664363796316, 100.00348412271434, 100.0134881125675]\n",
      "فواصل اندازه‌گیری‌شده: [100.01 100.02 100.03]\n",
      "خطاها: [-0.02335636 -0.01651588 -0.01651189]\n"
     ]
    }
   ],
   "source": []
  },
  {
   "cell_type": "code",
   "execution_count": null,
   "metadata": {},
   "outputs": [],
   "source": []
  }
 ],
 "metadata": {
  "kernelspec": {
   "display_name": "LLM",
   "language": "python",
   "name": "python3"
  },
  "language_info": {
   "codemirror_mode": {
    "name": "ipython",
    "version": 3
   },
   "file_extension": ".py",
   "mimetype": "text/x-python",
   "name": "python",
   "nbconvert_exporter": "python",
   "pygments_lexer": "ipython3",
   "version": "3.9.19"
  }
 },
 "nbformat": 4,
 "nbformat_minor": 2
}
