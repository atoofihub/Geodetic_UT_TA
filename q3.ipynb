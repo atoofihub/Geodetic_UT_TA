{
 "cells": [
  {
   "cell_type": "markdown",
   "metadata": {},
   "source": [
    "# Homography Computation for Image Rectification\n",
    "# =============================================\n",
    "# This script computes the homography matrix between two sets of corresponding points\n",
    "# (source and destination) using both homogeneous and non-homogeneous Direct Linear\n",
    "# Transformation (DLT) methods. The homography maps points from a distorted image to\n",
    "# a rectified image, correcting perspective distortion."
   ]
  },
  {
   "cell_type": "code",
   "execution_count": 2,
   "metadata": {},
   "outputs": [],
   "source": [
    "import numpy as np"
   ]
  },
  {
   "cell_type": "markdown",
   "metadata": {},
   "source": [
    "# Step 1: Define Input Points\n",
    "# --------------------------"
   ]
  },
  {
   "cell_type": "code",
   "execution_count": 3,
   "metadata": {},
   "outputs": [],
   "source": [
    "# Source points (pixel coordinates in the distorted image)\n",
    "src_pts = np.array([\n",
    "    [66.111, 658.33],\n",
    "    [70.556, 298.33],\n",
    "    [806.11, 150.56],\n",
    "    [813.89, 689.44]\n",
    "], dtype=np.float32)\n",
    "\n",
    "# Destination points (pixel coordinates in the rectified image)\n",
    "dst_pts = np.array([\n",
    "    [0, 1000],\n",
    "    [0, 0],\n",
    "    [1000, 0],\n",
    "    [1000, 1000]\n",
    "], dtype=np.float32)"
   ]
  },
  {
   "cell_type": "markdown",
   "metadata": {},
   "source": [
    "# Step 2: Homogeneous DLT\n",
    "# -----------------------"
   ]
  },
  {
   "cell_type": "code",
   "execution_count": 4,
   "metadata": {},
   "outputs": [],
   "source": [
    "def compute_homography_homogeneous(src_pts, dst_pts):\n",
    "    \"\"\"\n",
    "    Compute the homography matrix using the homogeneous DLT method.\n",
    "    \n",
    "    Parameters:\n",
    "    src_pts (numpy.ndarray): Source points [x, y] (Nx2).\n",
    "    dst_pts (numpy.ndarray): Destination points [x', y'] (Nx2).\n",
    "    \n",
    "    Returns:\n",
    "    numpy.ndarray: 3x3 homography matrix.\n",
    "    \"\"\"\n",
    "    A = []\n",
    "    for i in range(len(src_pts)):\n",
    "        x, y = src_pts[i]\n",
    "        x_p, y_p = dst_pts[i]\n",
    "        # Two equations per point correspondence\n",
    "        A.append([-x, -y, -1, 0, 0, 0, x * x_p, y * x_p, x_p])\n",
    "        A.append([0, 0, 0, -x, -y, -1, x * y_p, y * y_p, y_p])\n",
    "    \n",
    "    A = np.array(A)\n",
    "    \n",
    "    # Solve using SVD\n",
    "    _, _, Vt = np.linalg.svd(A)\n",
    "    H = Vt[-1].reshape(3, 3)\n",
    "    \n",
    "    # Normalize so h33 = 1\n",
    "    return H / H[2, 2]\n"
   ]
  },
  {
   "cell_type": "markdown",
   "metadata": {},
   "source": [
    "# Step 3: Non-Homogeneous DLT\n",
    "# ---------------------------"
   ]
  },
  {
   "cell_type": "code",
   "execution_count": 5,
   "metadata": {},
   "outputs": [],
   "source": [
    "def compute_homography_nonhomogeneous(src_pts, dst_pts):\n",
    "    \"\"\"\n",
    "    Compute the homography matrix using the non-homogeneous DLT method.\n",
    "    \n",
    "    Parameters:\n",
    "    src_pts (numpy.ndarray): Source points [x, y] (Nx2).\n",
    "    dst_pts (numpy.ndarray): Destination points [x', y'] (Nx2).\n",
    "    \n",
    "    Returns:\n",
    "    numpy.ndarray: 3x3 homography matrix.\n",
    "    \"\"\"\n",
    "    A = []\n",
    "    b = []\n",
    "    for i in range(len(src_pts)):\n",
    "        x, y = src_pts[i]\n",
    "        x_p, y_p = dst_pts[i]\n",
    "        # Two equations per point correspondence\n",
    "        A.append([x, y, 1, 0, 0, 0, -x * x_p, -y * x_p])\n",
    "        A.append([0, 0, 0, x, y, 1, -x * y_p, -y * y_p])\n",
    "        b.append(x_p)\n",
    "        b.append(y_p)\n",
    "    \n",
    "    A = np.array(A)\n",
    "    b = np.array(b)\n",
    "    \n",
    "    # Solve using least squares\n",
    "    x = np.linalg.lstsq(A, b, rcond=None)[0]\n",
    "    \n",
    "    # Form the homography matrix\n",
    "    H = np.array([\n",
    "        [x[0], x[1], x[2]],\n",
    "        [x[3], x[4], x[5]],\n",
    "        [x[6], x[7], 1]\n",
    "    ])\n",
    "    \n",
    "    return H"
   ]
  },
  {
   "cell_type": "markdown",
   "metadata": {},
   "source": [
    "# Step 4: Compute Homography Matrices\n",
    "# ----------------------------------"
   ]
  },
  {
   "cell_type": "code",
   "execution_count": 6,
   "metadata": {},
   "outputs": [],
   "source": [
    "H_hom = compute_homography_homogeneous(src_pts, dst_pts)\n",
    "H_nonhom = compute_homography_nonhomogeneous(src_pts, dst_pts)"
   ]
  },
  {
   "cell_type": "markdown",
   "metadata": {},
   "source": [
    "# Step 5: Validate Homography\n",
    "# --------------------------"
   ]
  },
  {
   "cell_type": "code",
   "execution_count": 7,
   "metadata": {},
   "outputs": [],
   "source": [
    "def apply_homography(H, points):\n",
    "    \"\"\"\n",
    "    Apply homography to a set of points and return Cartesian coordinates.\n",
    "    \n",
    "    Parameters:\n",
    "    H (numpy.ndarray): 3x3 homography matrix.\n",
    "    points (numpy.ndarray): Points [x, y] (Nx2).\n",
    "    \n",
    "    Returns:\n",
    "    numpy.ndarray: Transformed points [x', y'] (Nx2).\n",
    "    \"\"\"\n",
    "    # Convert to homogeneous coordinates\n",
    "    points_hom = np.hstack([points, np.ones((points.shape[0], 1))])\n",
    "    # Apply homography\n",
    "    points_transformed = points_hom @ H.T\n",
    "    # Normalize by w\n",
    "    points_transformed /= points_transformed[:, 2:3]\n",
    "    return points_transformed[:, :2]\n",
    "\n",
    "# Transform source points\n",
    "transformed_hom = apply_homography(H_hom, src_pts)\n",
    "transformed_nonhom = apply_homography(H_nonhom, src_pts)\n",
    "\n",
    "# Compute reprojection errors\n",
    "errors_hom = np.sqrt(np.sum((transformed_hom - dst_pts) ** 2, axis=1))\n",
    "errors_nonhom = np.sqrt(np.sum((transformed_nonhom - dst_pts) ** 2, axis=1))"
   ]
  },
  {
   "cell_type": "markdown",
   "metadata": {},
   "source": [
    "# Step 6: Display Results\n",
    "# -----------------------"
   ]
  },
  {
   "cell_type": "code",
   "execution_count": 8,
   "metadata": {},
   "outputs": [
    {
     "name": "stdout",
     "output_type": "stream",
     "text": [
      "Homography Matrix (Homogeneous DLT):\n",
      "[[ 2.17133600e+00  2.68100000e-02 -1.61198992e+02]\n",
      " [ 6.03872000e-01  3.00589200e+00 -9.39354671e+02]\n",
      " [ 7.27000000e-04  4.80000000e-05  1.00000000e+00]]\n",
      "\n",
      "Reprojection Errors (Homogeneous DLT):\n",
      "Point 1: 0.000001 pixels\n",
      "Point 2: 0.000000 pixels\n",
      "Point 3: 0.000007 pixels\n",
      "Point 4: 0.000009 pixels\n",
      "\n",
      "Homography Matrix (Non-Homogeneous DLT):\n",
      "[[ 2.17133600e+00  2.68100000e-02 -1.61198992e+02]\n",
      " [ 6.03872000e-01  3.00589200e+00 -9.39354671e+02]\n",
      " [ 7.27000000e-04  4.80000000e-05  1.00000000e+00]]\n",
      "\n",
      "Reprojection Errors (Non-Homogeneous DLT):\n",
      "Point 1: 0.000001 pixels\n",
      "Point 2: 0.000000 pixels\n",
      "Point 3: 0.000007 pixels\n",
      "Point 4: 0.000009 pixels\n"
     ]
    }
   ],
   "source": [
    "print(\"Homography Matrix (Homogeneous DLT):\")\n",
    "print(np.round(H_hom, 6))\n",
    "print(\"\\nReprojection Errors (Homogeneous DLT):\")\n",
    "for i, error in enumerate(errors_hom):\n",
    "    print(f\"Point {i+1}: {error:.6f} pixels\")\n",
    "\n",
    "print(\"\\nHomography Matrix (Non-Homogeneous DLT):\")\n",
    "print(np.round(H_nonhom, 6))\n",
    "print(\"\\nReprojection Errors (Non-Homogeneous DLT):\")\n",
    "for i, error in enumerate(errors_nonhom):\n",
    "    print(f\"Point {i+1}: {error:.6f} pixels\")"
   ]
  },
  {
   "cell_type": "code",
   "execution_count": null,
   "metadata": {},
   "outputs": [],
   "source": []
  }
 ],
 "metadata": {
  "kernelspec": {
   "display_name": "LLM",
   "language": "python",
   "name": "python3"
  },
  "language_info": {
   "codemirror_mode": {
    "name": "ipython",
    "version": 3
   },
   "file_extension": ".py",
   "mimetype": "text/x-python",
   "name": "python",
   "nbconvert_exporter": "python",
   "pygments_lexer": "ipython3",
   "version": "3.9.19"
  }
 },
 "nbformat": 4,
 "nbformat_minor": 2
}
