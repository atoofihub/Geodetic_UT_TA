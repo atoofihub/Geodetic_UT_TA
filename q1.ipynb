{
 "cells": [
  {
   "cell_type": "code",
   "execution_count": 1,
   "metadata": {},
   "outputs": [],
   "source": [
    "import numpy as np"
   ]
  },
  {
   "cell_type": "markdown",
   "metadata": {},
   "source": [
    "# Step 1: Define Input Parameters\n",
    "# -------------------------------"
   ]
  },
  {
   "cell_type": "code",
   "execution_count": 2,
   "metadata": {},
   "outputs": [
    {
     "name": "stdout",
     "output_type": "stream",
     "text": [
      "Standard deviation of image measurements: 0.015 mm\n"
     ]
    }
   ],
   "source": [
    "# Camera parameters\n",
    "f = 18  # Focal length in mm\n",
    "pixel_size = 0.005  # Pixel size in mm\n",
    "sigma_pixels = 3  # Standard deviation of image measurements in pixels\n",
    "sigma_x = sigma_y = sigma_pixels * pixel_size  # Standard deviation in mm\n",
    "print(f\"Standard deviation of image measurements: {sigma_x:.3f} mm\")"
   ]
  },
  {
   "cell_type": "code",
   "execution_count": 3,
   "metadata": {},
   "outputs": [],
   "source": [
    "# Exterior orientation parameters (in meters and degrees)\n",
    "# Left camera\n",
    "X_L, Y_L, Z_L = -7.5, -10.0, 1.7  # Position in meters\n",
    "w_L, phi_L, k_L = np.radians(90), np.radians(-20), np.radians(0)  # Angles in radians\n",
    "\n",
    "# Right camera\n",
    "X_R, Y_R, Z_R = 7.5, -10.0, 1.7  # Position in meters\n",
    "w_R, phi_R, k_R = np.radians(90), np.radians(20), np.radians(0)  # Angles in radians\n",
    "\n",
    "# Coordinates of intersection point P (in meters)\n",
    "X0, Y0, Z0 = 0.05, 0.0, 3.1\n"
   ]
  },
  {
   "cell_type": "markdown",
   "metadata": {},
   "source": [
    "# Step 2: Define Rotation Matrix Function\n",
    "# --------------------------------------"
   ]
  },
  {
   "cell_type": "code",
   "execution_count": 4,
   "metadata": {},
   "outputs": [],
   "source": [
    "def rotation_matrix(w, phi, k):\n",
    "    \"\"\"\n",
    "    Compute the rotation matrix R = R_kappa * R_phi * R_omega.\n",
    "    \n",
    "    Parameters:\n",
    "    w (float): Omega angle in radians (rotation around X-axis).\n",
    "    phi (float): Phi angle in radians (rotation around Y-axis).\n",
    "    k (float): Kappa angle in radians (rotation around Z-axis).\n",
    "    \n",
    "    Returns:\n",
    "    numpy.ndarray: 3x3 rotation matrix.\n",
    "    \"\"\"\n",
    "    R_w = np.array([[1, 0, 0],\n",
    "                    [0, np.cos(w), -np.sin(w)],\n",
    "                    [0, np.sin(w), np.cos(w)]])\n",
    "    R_phi = np.array([[np.cos(phi), 0, np.sin(phi)],\n",
    "                      [0, 1, 0],\n",
    "                      [-np.sin(phi), 0, np.cos(phi)]])\n",
    "    R_k = np.array([[np.cos(k), -np.sin(k), 0],\n",
    "                    [np.sin(k), np.cos(k), 0],\n",
    "                    [0, 0, 1]])\n",
    "    return R_k @ R_phi @ R_w\n",
    "\n",
    "# Compute rotation matrices for both cameras\n",
    "R_L = rotation_matrix(w_L, phi_L, k_L)\n",
    "R_R = rotation_matrix(w_R, phi_R, k_R)\n"
   ]
  },
  {
   "cell_type": "markdown",
   "metadata": {},
   "source": [
    "# Step 3: Define Design Matrix Function\n",
    "# ------------------------------------"
   ]
  },
  {
   "cell_type": "code",
   "execution_count": 5,
   "metadata": {},
   "outputs": [],
   "source": [
    "def design_matrix_row(X, Y, Z, R, Xc, Yc, Zc, f):\n",
    "    \"\"\"\n",
    "    Compute the partial derivatives of image coordinates (x, y) with respect to\n",
    "    object coordinates (X, Y, Z) for one camera, based on collinearity equations.\n",
    "    \n",
    "    Parameters:\n",
    "    X, Y, Z (float): Object coordinates in meters.\n",
    "    R (numpy.ndarray): 3x3 rotation matrix.\n",
    "    Xc, Yc, Zc (float): Camera position in meters.\n",
    "    f (float): Focal length in mm.\n",
    "    \n",
    "    Returns:\n",
    "    numpy.ndarray: 2x3 matrix of partial derivatives [dx/dX, dx/dY, dx/dZ; dy/dX, dy/dY, dy/dZ].\n",
    "    \"\"\"\n",
    "    # Vector from camera to point\n",
    "    dX = X - Xc\n",
    "    dY = Y - Yc\n",
    "    dZ = Z - Zc\n",
    "    \n",
    "    # Rotate the vector\n",
    "    RX = R @ np.array([dX, dY, dZ])\n",
    "    \n",
    "    # Rotation matrix elements\n",
    "    r11, r12, r13 = R[0]\n",
    "    r21, r22, r23 = R[1]\n",
    "    r31, r32, r33 = R[2]\n",
    "    \n",
    "    # Denominator of collinearity equations\n",
    "    q = r31 * dX + r32 * dY + r33 * dZ\n",
    "    dq_dX = r31\n",
    "    dq_dY = r32\n",
    "    dq_dZ = r33\n",
    "    \n",
    "    # Numerators\n",
    "    num_x = r11 * dX + r12 * dY + r13 * dZ\n",
    "    num_y = r21 * dX + r22 * dY + r23 * dZ\n",
    "    \n",
    "    # Partial derivatives\n",
    "    dx_dX = -f * (r11 * q - num_x * dq_dX) / q**2\n",
    "    dx_dY = -f * (r12 * q - num_x * dq_dY) / q**2\n",
    "    dx_dZ = -f * (r13 * q - num_x * dq_dZ) / q**2\n",
    "    \n",
    "    dy_dX = -f * (r21 * q - num_y * dq_dX) / q**2\n",
    "    dy_dY = -f * (r22 * q - num_y * dq_dY) / q**2\n",
    "    dy_dZ = -f * (r23 * q - num_y * dq_dZ) / q**2\n",
    "    \n",
    "    return np.array([[dx_dX, dx_dY, dx_dZ],\n",
    "                     [dy_dX, dy_dY, dy_dZ]])"
   ]
  },
  {
   "cell_type": "markdown",
   "metadata": {},
   "source": [
    "# Step 4: Compute Design Matrix\n",
    "# -----------------------------"
   ]
  },
  {
   "cell_type": "code",
   "execution_count": 6,
   "metadata": {},
   "outputs": [
    {
     "name": "stdout",
     "output_type": "stream",
     "text": [
      "\n",
      "Design matrix A:\n",
      "[[-1.25434917e+00  9.47033625e-01  5.79890849e-17]\n",
      " [-6.00617757e-02 -1.65018373e-01  1.50260724e+00]\n",
      " [-1.26154260e+00 -9.39849241e-01 -5.75491682e-17]\n",
      " [ 6.04062175e-02 -1.65964719e-01  1.50690965e+00]]\n",
      "\n",
      "Standard deviations of point P coordinates (in meters):\n",
      "sigma_X = 0.0084 m\n",
      "sigma_Y = 0.0112 m\n",
      "sigma_Z = 0.0072 m\n"
     ]
    }
   ],
   "source": [
    "# Design matrix for left and right images\n",
    "A_L = design_matrix_row(X0, Y0, Z0, R_L, X_L, Y_L, Z_L, f)\n",
    "A_R = design_matrix_row(X0, Y0, Z0, R_R, X_R, Y_R, Z_R, f)\n",
    "\n",
    "# Combine into full design matrix (4 observations x 3 unknowns)\n",
    "A = np.vstack([A_L, A_R])\n",
    "print(\"\\nDesign matrix A:\")\n",
    "print(A)\n",
    "\n",
    "# Step 5: Error Propagation\n",
    "# -------------------------\n",
    "# Covariance matrix of observations (assuming equal variance and no correlation)\n",
    "sigma_sq = sigma_x**2  # Variance in mm^2\n",
    "Sigma_ll_inv = np.eye(4) / sigma_sq  # Inverse covariance matrix\n",
    "\n",
    "# Normal matrix\n",
    "N = A.T @ Sigma_ll_inv @ A\n",
    "\n",
    "# Covariance matrix of estimated parameters\n",
    "Q_xx = np.linalg.inv(N)\n",
    "\n",
    "# Standard deviations of X, Y, Z\n",
    "sigma_XYZ = np.sqrt(np.diag(Q_xx))\n",
    "\n",
    "# Step 6: Display Results\n",
    "# -----------------------\n",
    "print(\"\\nStandard deviations of point P coordinates (in meters):\")\n",
    "print(f\"sigma_X = {sigma_XYZ[0]:.4f} m\")\n",
    "print(f\"sigma_Y = {sigma_XYZ[1]:.4f} m\")\n",
    "print(f\"sigma_Z = {sigma_XYZ[2]:.4f} m\")"
   ]
  },
  {
   "cell_type": "code",
   "execution_count": null,
   "metadata": {},
   "outputs": [],
   "source": []
  }
 ],
 "metadata": {
  "kernelspec": {
   "display_name": "LLM",
   "language": "python",
   "name": "python3"
  },
  "language_info": {
   "codemirror_mode": {
    "name": "ipython",
    "version": 3
   },
   "file_extension": ".py",
   "mimetype": "text/x-python",
   "name": "python",
   "nbconvert_exporter": "python",
   "pygments_lexer": "ipython3",
   "version": "3.9.19"
  }
 },
 "nbformat": 4,
 "nbformat_minor": 2
}
