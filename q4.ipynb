{
 "cells": [
  {
   "cell_type": "markdown",
   "metadata": {},
   "source": [
    "# Nonlinear Least Squares for 3D Point Intersection\n",
    "# ===============================================\n",
    "# This script computes the 3D coordinates of a point P using nonlinear least squares,\n",
    "# given distance measurements from five known stations (A, B, C, D, E)."
   ]
  },
  {
   "cell_type": "code",
   "execution_count": 1,
   "metadata": {},
   "outputs": [],
   "source": [
    "import numpy as np"
   ]
  },
  {
   "cell_type": "markdown",
   "metadata": {},
   "source": [
    "# Step 1: Define Input Data\n",
    "# -------------------------"
   ]
  },
  {
   "cell_type": "code",
   "execution_count": 2,
   "metadata": {},
   "outputs": [],
   "source": [
    "# Station coordinates (X, Y, Z) in meters\n",
    "X = np.array([2742.87, 2751.59, 2738.08, 2715.23, 2724.96])\n",
    "Y = np.array([91874.15, 91872.49, 91886.95, 91852.36, 91882.74])\n",
    "Z = np.array([510.56, 513.76, 518.11, 515.39, 516.28])"
   ]
  },
  {
   "cell_type": "code",
   "execution_count": 3,
   "metadata": {},
   "outputs": [],
   "source": [
    "\n",
    "# Observed distances from stations to point P (in meters)\n",
    "D = np.array([3.71, 6.17, 15.90, 37.82, 22.90])\n"
   ]
  },
  {
   "cell_type": "code",
   "execution_count": 4,
   "metadata": {},
   "outputs": [],
   "source": [
    "# Initial guess for P's coordinates\n",
    "Xp, Yp, Zp = 2746.0, 91874.0, 512.0"
   ]
  },
  {
   "cell_type": "markdown",
   "metadata": {},
   "source": [
    "# Step 2: Nonlinear Least Squares\n",
    "# ------------------------------"
   ]
  },
  {
   "cell_type": "code",
   "execution_count": 5,
   "metadata": {},
   "outputs": [],
   "source": [
    "# Initialize corrections and iteration counter\n",
    "dxp, dyp, dzp = 1.0, 1.0, 1.0\n",
    "it = 0\n",
    "threshold = 1e-5  # Convergence threshold (meters)\n"
   ]
  },
  {
   "cell_type": "code",
   "execution_count": 6,
   "metadata": {},
   "outputs": [],
   "source": [
    "while np.max(np.abs([dxp, dyp, dzp])) >= threshold:\n",
    "    it += 1\n",
    "    \n",
    "    # Compute distances from current estimate of P to stations\n",
    "    Dc = np.sqrt((X - Xp)**2 + (Y - Yp)**2 + (Z - Zp)**2)\n",
    "    \n",
    "    # Residuals: observed - computed distances\n",
    "    l = D - Dc\n",
    "    \n",
    "    # Design matrix A (Jacobian of distances w.r.t. Xp, Yp, Zp)\n",
    "    A = np.column_stack([\n",
    "        (Xp - X) / Dc,  # dD/dXp\n",
    "        (Yp - Y) / Dc,  # dD/dYp\n",
    "        (Zp - Z) / Dc   # dD/dZp\n",
    "    ])\n",
    "    \n",
    "    # Solve for corrections: (A^T A)^(-1) A^T l\n",
    "    delta = np.linalg.solve(A.T @ A, A.T @ l)\n",
    "    dxp, dyp, dzp = delta\n",
    "    \n",
    "    # Update coordinates\n",
    "    Xp += dxp\n",
    "    Yp += dyp\n",
    "    Zp += dzp"
   ]
  },
  {
   "cell_type": "markdown",
   "metadata": {},
   "source": [
    "\n",
    "# Step 3: Compute Covariance Matrix\n",
    "# --------------------------------"
   ]
  },
  {
   "cell_type": "code",
   "execution_count": 7,
   "metadata": {},
   "outputs": [],
   "source": [
    "# Recompute Dc and A at final estimate\n",
    "Dc = np.sqrt((X - Xp)**2 + (Y - Yp)**2 + (Z - Zp)**2)\n",
    "A = np.column_stack([\n",
    "    (Xp - X) / Dc,\n",
    "    (Yp - Y) / Dc,\n",
    "    (Zp - Z) / Dc\n",
    "])\n",
    "\n",
    "# Residuals\n",
    "v = D - Dc\n",
    "\n",
    "# Variance of unit weight (sigma_0^2)\n",
    "n = len(D)  # Number of observations\n",
    "u = 3       # Number of unknowns (Xp, Yp, Zp)\n",
    "sigma_0_squared = (v.T @ v) / (n - u)\n",
    "\n",
    "# Covariance matrix: sigma_0^2 * (A^T A)^(-1)\n",
    "cov_matrix = sigma_0_squared * np.linalg.inv(A.T @ A)\n",
    "sigma_p = np.sqrt(np.diag(cov_matrix))"
   ]
  },
  {
   "cell_type": "markdown",
   "metadata": {},
   "source": [
    "# Step 4: Display Results\n",
    "# -----------------------"
   ]
  },
  {
   "cell_type": "code",
   "execution_count": 8,
   "metadata": {},
   "outputs": [
    {
     "name": "stdout",
     "output_type": "stream",
     "text": [
      "Number of iterations: 6\n",
      "\n",
      "Estimated coordinates of P:\n",
      "X_P = 2745.9040 m\n",
      "Y_P = 91874.2967 m\n",
      "Z_P = 512.5890 m\n",
      "\n",
      "Standard deviations:\n",
      "σ_X = 0.0479 m\n",
      "σ_Y = 0.0826 m\n",
      "σ_Z = 0.1266 m\n",
      "\n",
      "Final residuals (observed - computed distances):\n",
      "Station A: 0.0571 m\n",
      "Station B: 0.0900 m\n",
      "Station C: 0.0317 m\n",
      "Station D: 0.0052 m\n",
      "Station E: 0.0185 m\n",
      "\n",
      "Variance of unit weight (σ_0²): 0.0064\n"
     ]
    }
   ],
   "source": [
    "print(f\"Number of iterations: {it}\")\n",
    "print(f\"\\nEstimated coordinates of P:\")\n",
    "print(f\"X_P = {Xp:.4f} m\")\n",
    "print(f\"Y_P = {Yp:.4f} m\")\n",
    "print(f\"Z_P = {Zp:.4f} m\")\n",
    "\n",
    "print(f\"\\nStandard deviations:\")\n",
    "print(f\"σ_X = {sigma_p[0]:.4f} m\")\n",
    "print(f\"σ_Y = {sigma_p[1]:.4f} m\")\n",
    "print(f\"σ_Z = {sigma_p[2]:.4f} m\")\n",
    "\n",
    "print(f\"\\nFinal residuals (observed - computed distances):\")\n",
    "for i, res in enumerate(v):\n",
    "    print(f\"Station {chr(65+i)}: {res:.4f} m\")\n",
    "\n",
    "print(f\"\\nVariance of unit weight (σ_0²): {sigma_0_squared:.4f}\")"
   ]
  }
 ],
 "metadata": {
  "kernelspec": {
   "display_name": "LLM",
   "language": "python",
   "name": "python3"
  },
  "language_info": {
   "codemirror_mode": {
    "name": "ipython",
    "version": 3
   },
   "file_extension": ".py",
   "mimetype": "text/x-python",
   "name": "python",
   "nbconvert_exporter": "python",
   "pygments_lexer": "ipython3",
   "version": "3.9.19"
  }
 },
 "nbformat": 4,
 "nbformat_minor": 2
}
