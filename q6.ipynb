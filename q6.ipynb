{
 "cells": [
  {
   "cell_type": "markdown",
   "metadata": {},
   "source": [
    "# Least Squares Adjustment for Quadrilateral Coordinates\n",
    "# ====================================================\n",
    "# This script computes the coordinates of four points (P1, P2, P3, P4) forming a quadrilateral\n",
    "# using least squares adjustment, based on observed distances, azimuths, and height differences\n",
    "# from three fixed stations."
   ]
  },
  {
   "cell_type": "code",
   "execution_count": 1,
   "metadata": {},
   "outputs": [],
   "source": [
    "import numpy as np"
   ]
  },
  {
   "cell_type": "markdown",
   "metadata": {},
   "source": [
    "# Step 1: Define Input Data\n",
    "# -------------------------"
   ]
  },
  {
   "cell_type": "markdown",
   "metadata": {},
   "source": [
    "## Fixed station coordinates (in meters)"
   ]
  },
  {
   "cell_type": "code",
   "execution_count": 2,
   "metadata": {},
   "outputs": [],
   "source": [
    "\n",
    "stations = {\n",
    "    'P1': {'X': 356265.967, 'Y': 5787646.936, 'Z': 87.432},\n",
    "    'P2': {'X': 356262.534, 'Y': 5787647.786, 'Z': 87.386},\n",
    "    'P3': {'X': 356252.905, 'Y': 5787649.079, 'Z': 87.289}\n",
    "}"
   ]
  },
  {
   "cell_type": "markdown",
   "metadata": {},
   "source": [
    "## Approximate coordinates of unknown points (P1, P2, P3, P4)"
   ]
  },
  {
   "cell_type": "code",
   "execution_count": 3,
   "metadata": {},
   "outputs": [],
   "source": [
    "\n",
    "approx_coords = {\n",
    "    1: {'X': 356268.0, 'Y': 5787660.0, 'Z': 87.0},\n",
    "    2: {'X': 356268.0, 'Y': 5787660.0, 'Z': 96.0},\n",
    "    3: {'X': 356262.0, 'Y': 5787662.0, 'Z': 96.0},\n",
    "    4: {'X': 356262.0, 'Y': 5787662.0, 'Z': 87.0}\n",
    "}\n"
   ]
  },
  {
   "cell_type": "markdown",
   "metadata": {},
   "source": [
    "## Observations"
   ]
  },
  {
   "cell_type": "code",
   "execution_count": 4,
   "metadata": {},
   "outputs": [],
   "source": [
    "\n",
    "distances = [\n",
    "    ('P1', 1, 13.232), ('P1', 2, 15.811), ('P1', 3, 17.867),\n",
    "    ('P2', 1, 13.390), ('P2', 2, 15.970), ('P2', 3, 16.717), ('P2', 4, 14.239),\n",
    "    ('P4', 3, 18.046), ('P4', 4, 15.860)\n",
    "]\n",
    "azimuths = [\n",
    "    ('P1', 1, 9.22789), ('P1', 2, 8.95359), ('P1', 3, 345.45717),\n",
    "    ('P2', 1, 24.49167), ('P2', 2, 24.21737), ('P2', 3, 358.05866), ('P2', 4, 357.90458),\n",
    "    ('P4', 3, 35.52366), ('P4', 4, 35.24937)\n",
    "]\n",
    "height_diffs = [\n",
    "    ('P1', 1, 0.43), ('P4', 4, 0.29)\n",
    "]\n"
   ]
  },
  {
   "cell_type": "markdown",
   "metadata": {},
   "source": [
    "## Observation precisions"
   ]
  },
  {
   "cell_type": "code",
   "execution_count": 5,
   "metadata": {},
   "outputs": [],
   "source": [
    "sigma_d = 0.01  # meters\n",
    "sigma_az = 0.005  # radians\n",
    "sigma_h = 0.01  # meters\n"
   ]
  },
  {
   "cell_type": "markdown",
   "metadata": {},
   "source": [
    "## Weights"
   ]
  },
  {
   "cell_type": "code",
   "execution_count": 6,
   "metadata": {},
   "outputs": [],
   "source": [
    "w_d = 1 / sigma_d**2  # 10000 m^-2\n",
    "w_az = 1 / sigma_az**2  # 40000 rad^-2\n",
    "w_h = 1 / sigma_h**2  # 10000 m^-2\n"
   ]
  },
  {
   "cell_type": "markdown",
   "metadata": {},
   "source": [
    "## Observed values (convert azimuths to radians)"
   ]
  },
  {
   "cell_type": "code",
   "execution_count": 7,
   "metadata": {},
   "outputs": [],
   "source": [
    "obs_d = np.array([d[2] for d in distances])\n",
    "obs_az = np.radians(np.array([az[2] for az in azimuths]))\n",
    "obs_h = np.array([h[2] for h in height_diffs])\n",
    "l_obs = np.hstack([obs_d, obs_az, obs_h])\n"
   ]
  },
  {
   "cell_type": "markdown",
   "metadata": {},
   "source": [
    "## Weight matrix"
   ]
  },
  {
   "cell_type": "code",
   "execution_count": 8,
   "metadata": {},
   "outputs": [],
   "source": [
    "weights = [w_d] * len(distances) + [w_az] * len(azimuths) + [w_h] * len(height_diffs)\n",
    "W = np.diag(weights)"
   ]
  },
  {
   "cell_type": "markdown",
   "metadata": {},
   "source": [
    "# Step 2: Initialize Parameters\n",
    "# -----------------------------"
   ]
  },
  {
   "cell_type": "markdown",
   "metadata": {},
   "source": [
    "## Unknowns: [X1, Y1, Z1, X2, Y2, Z2, X3, Y3, Z3, X4, Y4, Z4]\n"
   ]
  },
  {
   "cell_type": "code",
   "execution_count": 9,
   "metadata": {},
   "outputs": [],
   "source": [
    "X = np.array([\n",
    "    approx_coords[1]['X'], approx_coords[1]['Y'], approx_coords[1]['Z'],\n",
    "    approx_coords[2]['X'], approx_coords[2]['Y'], approx_coords[2]['Z'],\n",
    "    approx_coords[3]['X'], approx_coords[3]['Y'], approx_coords[3]['Z'],\n",
    "    approx_coords[4]['X'], approx_coords[4]['Y'], approx_coords[4]['Z']\n",
    "])"
   ]
  },
  {
   "cell_type": "markdown",
   "metadata": {},
   "source": [
    "# Step 3: Least Squares Adjustment\n",
    "# --------------------------------"
   ]
  },
  {
   "cell_type": "code",
   "execution_count": 10,
   "metadata": {},
   "outputs": [],
   "source": [
    "def compute_observations(X, distances, azimuths, height_diffs, stations):\n",
    "    \"\"\"Compute calculated observations and Jacobian matrix.\"\"\"\n",
    "    l_calc = []\n",
    "    A = np.zeros((len(distances) + len(azimuths) + len(height_diffs), len(X)))\n",
    "    \n",
    "    # Distances\n",
    "    for idx, (s, p, _) in enumerate(distances):\n",
    "        Xs, Ys = stations[s]['X'], stations[s]['Y']\n",
    "        Xp, Yp, Zp = X[3*(p-1)], X[3*(p-1)+1], X[3*(p-1)+2]\n",
    "        d = np.sqrt((Xp - Xs)**2 + (Yp - Ys)**2 + (Zp - stations[s]['Z'])**2)\n",
    "        l_calc.append(d)\n",
    "        # Partial derivatives\n",
    "        A[idx, 3*(p-1)] = (Xp - Xs) / d  # dD/dX\n",
    "        A[idx, 3*(p-1)+1] = (Yp - Ys) / d  # dD/dY\n",
    "        A[idx, 3*(p-1)+2] = (Zp - stations[s]['Z']) / d  # dD/dZ\n",
    "    \n",
    "    # Azimuths\n",
    "    for idx, (s, p, _) in enumerate(azimuths, len(distances)):\n",
    "        Xs, Ys = stations[s]['X'], stations[s]['Y']\n",
    "        Xp, Yp = X[3*(p-1)], X[3*(p-1)+1]\n",
    "        dx, dy = Xp - Xs, Yp - Ys\n",
    "        az = np.arctan2(dy, dx)\n",
    "        l_calc.append(az)\n",
    "        # Partial derivatives\n",
    "        den = dx**2 + dy**2\n",
    "        A[idx, 3*(p-1)] = -dy / den  # dAz/dX\n",
    "        A[idx, 3*(p-1)+1] = dx / den  # dAz/dY\n",
    "    \n",
    "    # Height differences\n",
    "    for idx, (s, p, _) in enumerate(height_diffs, len(distances) + len(azimuths)):\n",
    "        Zp = X[3*(p-1)+2]\n",
    "        Zs = stations[s]['Z']\n",
    "        l_calc.append(Zp - Zs)\n",
    "        A[idx, 3*(p-1)+2] = 1  # dH/dZ\n",
    "    \n",
    "    return np.array(l_calc), A\n"
   ]
  },
  {
   "cell_type": "markdown",
   "metadata": {},
   "source": [
    "## Iteration"
   ]
  },
  {
   "cell_type": "code",
   "execution_count": 11,
   "metadata": {},
   "outputs": [
    {
     "ename": "KeyError",
     "evalue": "'P4'",
     "output_type": "error",
     "traceback": [
      "\u001b[0;31m---------------------------------------------------------------------------\u001b[0m",
      "\u001b[0;31mKeyError\u001b[0m                                  Traceback (most recent call last)",
      "Cell \u001b[0;32mIn[11], line 7\u001b[0m\n\u001b[1;32m      5\u001b[0m \u001b[38;5;28;01mwhile\u001b[39;00m np\u001b[38;5;241m.\u001b[39mmax(np\u001b[38;5;241m.\u001b[39mabs(dx)) \u001b[38;5;241m>\u001b[39m\u001b[38;5;241m=\u001b[39m threshold:\n\u001b[1;32m      6\u001b[0m     it \u001b[38;5;241m+\u001b[39m\u001b[38;5;241m=\u001b[39m \u001b[38;5;241m1\u001b[39m\n\u001b[0;32m----> 7\u001b[0m     l_calc, A \u001b[38;5;241m=\u001b[39m \u001b[43mcompute_observations\u001b[49m\u001b[43m(\u001b[49m\u001b[43mX\u001b[49m\u001b[43m,\u001b[49m\u001b[43m \u001b[49m\u001b[43mdistances\u001b[49m\u001b[43m,\u001b[49m\u001b[43m \u001b[49m\u001b[43mazimuths\u001b[49m\u001b[43m,\u001b[49m\u001b[43m \u001b[49m\u001b[43mheight_diffs\u001b[49m\u001b[43m,\u001b[49m\u001b[43m \u001b[49m\u001b[43mstations\u001b[49m\u001b[43m)\u001b[49m\n\u001b[1;32m      9\u001b[0m     \u001b[38;5;66;03m# Azimuth observation adjustment: convert observed to coordinate system\u001b[39;00m\n\u001b[1;32m     10\u001b[0m     l_obs_adjusted \u001b[38;5;241m=\u001b[39m l_obs\u001b[38;5;241m.\u001b[39mcopy()\n",
      "Cell \u001b[0;32mIn[10], line 8\u001b[0m, in \u001b[0;36mcompute_observations\u001b[0;34m(X, distances, azimuths, height_diffs, stations)\u001b[0m\n\u001b[1;32m      6\u001b[0m \u001b[38;5;66;03m# Distances\u001b[39;00m\n\u001b[1;32m      7\u001b[0m \u001b[38;5;28;01mfor\u001b[39;00m idx, (s, p, _) \u001b[38;5;129;01min\u001b[39;00m \u001b[38;5;28menumerate\u001b[39m(distances):\n\u001b[0;32m----> 8\u001b[0m     Xs, Ys \u001b[38;5;241m=\u001b[39m \u001b[43mstations\u001b[49m\u001b[43m[\u001b[49m\u001b[43ms\u001b[49m\u001b[43m]\u001b[49m[\u001b[38;5;124m'\u001b[39m\u001b[38;5;124mX\u001b[39m\u001b[38;5;124m'\u001b[39m], stations[s][\u001b[38;5;124m'\u001b[39m\u001b[38;5;124mY\u001b[39m\u001b[38;5;124m'\u001b[39m]\n\u001b[1;32m      9\u001b[0m     Xp, Yp, Zp \u001b[38;5;241m=\u001b[39m X[\u001b[38;5;241m3\u001b[39m\u001b[38;5;241m*\u001b[39m(p\u001b[38;5;241m-\u001b[39m\u001b[38;5;241m1\u001b[39m)], X[\u001b[38;5;241m3\u001b[39m\u001b[38;5;241m*\u001b[39m(p\u001b[38;5;241m-\u001b[39m\u001b[38;5;241m1\u001b[39m)\u001b[38;5;241m+\u001b[39m\u001b[38;5;241m1\u001b[39m], X[\u001b[38;5;241m3\u001b[39m\u001b[38;5;241m*\u001b[39m(p\u001b[38;5;241m-\u001b[39m\u001b[38;5;241m1\u001b[39m)\u001b[38;5;241m+\u001b[39m\u001b[38;5;241m2\u001b[39m]\n\u001b[1;32m     10\u001b[0m     d \u001b[38;5;241m=\u001b[39m np\u001b[38;5;241m.\u001b[39msqrt((Xp \u001b[38;5;241m-\u001b[39m Xs)\u001b[38;5;241m*\u001b[39m\u001b[38;5;241m*\u001b[39m\u001b[38;5;241m2\u001b[39m \u001b[38;5;241m+\u001b[39m (Yp \u001b[38;5;241m-\u001b[39m Ys)\u001b[38;5;241m*\u001b[39m\u001b[38;5;241m*\u001b[39m\u001b[38;5;241m2\u001b[39m \u001b[38;5;241m+\u001b[39m (Zp \u001b[38;5;241m-\u001b[39m stations[s][\u001b[38;5;124m'\u001b[39m\u001b[38;5;124mZ\u001b[39m\u001b[38;5;124m'\u001b[39m])\u001b[38;5;241m*\u001b[39m\u001b[38;5;241m*\u001b[39m\u001b[38;5;241m2\u001b[39m)\n",
      "\u001b[0;31mKeyError\u001b[0m: 'P4'"
     ]
    }
   ],
   "source": [
    "\n",
    "it = 0\n",
    "dx = np.ones(len(X))\n",
    "threshold = 1e-4  # Convergence threshold (meters)\n",
    "\n",
    "while np.max(np.abs(dx)) >= threshold:\n",
    "    it += 1\n",
    "    l_calc, A = compute_observations(X, distances, azimuths, height_diffs, stations)\n",
    "    \n",
    "    # Azimuth observation adjustment: convert observed to coordinate system\n",
    "    l_obs_adjusted = l_obs.copy()\n",
    "    for i in range(len(distances), len(distances) + len(azimuths)):\n",
    "        l_obs_adjusted[i] = np.radians(azimuths[i - len(distances)][2] - 90)\n",
    "    \n",
    "    # Residuals\n",
    "    l = l_obs_adjusted - l_calc\n",
    "    \n",
    "    # Normal equations\n",
    "    N = A.T @ W @ A\n",
    "    U = A.T @ W @ l\n",
    "    dx = np.linalg.solve(N, U)\n",
    "    \n",
    "    # Update coordinates\n",
    "    X += dx\n"
   ]
  },
  {
   "cell_type": "markdown",
   "metadata": {},
   "source": [
    "# Step 4: Compute Covariance and Residuals\n",
    "# ---------------------------------------"
   ]
  },
  {
   "cell_type": "code",
   "execution_count": 12,
   "metadata": {},
   "outputs": [
    {
     "ename": "KeyError",
     "evalue": "'P4'",
     "output_type": "error",
     "traceback": [
      "\u001b[0;31m---------------------------------------------------------------------------\u001b[0m",
      "\u001b[0;31mKeyError\u001b[0m                                  Traceback (most recent call last)",
      "Cell \u001b[0;32mIn[12], line 1\u001b[0m\n\u001b[0;32m----> 1\u001b[0m l_calc, A \u001b[38;5;241m=\u001b[39m \u001b[43mcompute_observations\u001b[49m\u001b[43m(\u001b[49m\u001b[43mX\u001b[49m\u001b[43m,\u001b[49m\u001b[43m \u001b[49m\u001b[43mdistances\u001b[49m\u001b[43m,\u001b[49m\u001b[43m \u001b[49m\u001b[43mazimuths\u001b[49m\u001b[43m,\u001b[49m\u001b[43m \u001b[49m\u001b[43mheight_diffs\u001b[49m\u001b[43m,\u001b[49m\u001b[43m \u001b[49m\u001b[43mstations\u001b[49m\u001b[43m)\u001b[49m\n\u001b[1;32m      2\u001b[0m l_obs_adjusted \u001b[38;5;241m=\u001b[39m l_obs\u001b[38;5;241m.\u001b[39mcopy()\n\u001b[1;32m      3\u001b[0m \u001b[38;5;28;01mfor\u001b[39;00m i \u001b[38;5;129;01min\u001b[39;00m \u001b[38;5;28mrange\u001b[39m(\u001b[38;5;28mlen\u001b[39m(distances), \u001b[38;5;28mlen\u001b[39m(distances) \u001b[38;5;241m+\u001b[39m \u001b[38;5;28mlen\u001b[39m(azimuths)):\n",
      "Cell \u001b[0;32mIn[10], line 8\u001b[0m, in \u001b[0;36mcompute_observations\u001b[0;34m(X, distances, azimuths, height_diffs, stations)\u001b[0m\n\u001b[1;32m      6\u001b[0m \u001b[38;5;66;03m# Distances\u001b[39;00m\n\u001b[1;32m      7\u001b[0m \u001b[38;5;28;01mfor\u001b[39;00m idx, (s, p, _) \u001b[38;5;129;01min\u001b[39;00m \u001b[38;5;28menumerate\u001b[39m(distances):\n\u001b[0;32m----> 8\u001b[0m     Xs, Ys \u001b[38;5;241m=\u001b[39m \u001b[43mstations\u001b[49m\u001b[43m[\u001b[49m\u001b[43ms\u001b[49m\u001b[43m]\u001b[49m[\u001b[38;5;124m'\u001b[39m\u001b[38;5;124mX\u001b[39m\u001b[38;5;124m'\u001b[39m], stations[s][\u001b[38;5;124m'\u001b[39m\u001b[38;5;124mY\u001b[39m\u001b[38;5;124m'\u001b[39m]\n\u001b[1;32m      9\u001b[0m     Xp, Yp, Zp \u001b[38;5;241m=\u001b[39m X[\u001b[38;5;241m3\u001b[39m\u001b[38;5;241m*\u001b[39m(p\u001b[38;5;241m-\u001b[39m\u001b[38;5;241m1\u001b[39m)], X[\u001b[38;5;241m3\u001b[39m\u001b[38;5;241m*\u001b[39m(p\u001b[38;5;241m-\u001b[39m\u001b[38;5;241m1\u001b[39m)\u001b[38;5;241m+\u001b[39m\u001b[38;5;241m1\u001b[39m], X[\u001b[38;5;241m3\u001b[39m\u001b[38;5;241m*\u001b[39m(p\u001b[38;5;241m-\u001b[39m\u001b[38;5;241m1\u001b[39m)\u001b[38;5;241m+\u001b[39m\u001b[38;5;241m2\u001b[39m]\n\u001b[1;32m     10\u001b[0m     d \u001b[38;5;241m=\u001b[39m np\u001b[38;5;241m.\u001b[39msqrt((Xp \u001b[38;5;241m-\u001b[39m Xs)\u001b[38;5;241m*\u001b[39m\u001b[38;5;241m*\u001b[39m\u001b[38;5;241m2\u001b[39m \u001b[38;5;241m+\u001b[39m (Yp \u001b[38;5;241m-\u001b[39m Ys)\u001b[38;5;241m*\u001b[39m\u001b[38;5;241m*\u001b[39m\u001b[38;5;241m2\u001b[39m \u001b[38;5;241m+\u001b[39m (Zp \u001b[38;5;241m-\u001b[39m stations[s][\u001b[38;5;124m'\u001b[39m\u001b[38;5;124mZ\u001b[39m\u001b[38;5;124m'\u001b[39m])\u001b[38;5;241m*\u001b[39m\u001b[38;5;241m*\u001b[39m\u001b[38;5;241m2\u001b[39m)\n",
      "\u001b[0;31mKeyError\u001b[0m: 'P4'"
     ]
    }
   ],
   "source": [
    "\n",
    "l_calc, A = compute_observations(X, distances, azimuths, height_diffs, stations)\n",
    "l_obs_adjusted = l_obs.copy()\n",
    "for i in range(len(distances), len(distances) + len(azimuths)):\n",
    "    l_obs_adjusted[i] = np.radians(azimuths[i - len(distances)][2] - 90)\n",
    "v = l_obs_adjusted - l_calc\n",
    "\n",
    "# Variance of unit weight\n",
    "n = len(l_obs)\n",
    "u = len(X)\n",
    "sigma_0_squared = (v.T @ W @ v) / (n - u)\n",
    "\n",
    "# Covariance matrix\n",
    "cov_matrix = sigma_0_squared * np.linalg.inv(A.T @ W @ A)\n",
    "sigma_x = np.sqrt(np.diag(cov_matrix))\n"
   ]
  },
  {
   "cell_type": "markdown",
   "metadata": {},
   "source": [
    "# Step 5: Display Results\n",
    "# -----------------------"
   ]
  },
  {
   "cell_type": "code",
   "execution_count": 13,
   "metadata": {},
   "outputs": [
    {
     "name": "stdout",
     "output_type": "stream",
     "text": [
      "Number of iterations: 1\n",
      "\n",
      "Final Coordinates:\n",
      "P1: X=356268.000 m, Y=5787660.000 m, Z=87.000 m\n",
      "P2: X=356268.000 m, Y=5787660.000 m, Z=96.000 m\n",
      "P3: X=356262.000 m, Y=5787662.000 m, Z=96.000 m\n",
      "P4: X=356262.000 m, Y=5787662.000 m, Z=87.000 m\n",
      "\n",
      "Standard Deviations:\n"
     ]
    },
    {
     "ename": "NameError",
     "evalue": "name 'sigma_x' is not defined",
     "output_type": "error",
     "traceback": [
      "\u001b[0;31m---------------------------------------------------------------------------\u001b[0m",
      "\u001b[0;31mNameError\u001b[0m                                 Traceback (most recent call last)",
      "Cell \u001b[0;32mIn[13], line 8\u001b[0m\n\u001b[1;32m      6\u001b[0m \u001b[38;5;28mprint\u001b[39m(\u001b[38;5;124mf\u001b[39m\u001b[38;5;124m\"\u001b[39m\u001b[38;5;130;01m\\n\u001b[39;00m\u001b[38;5;124mStandard Deviations:\u001b[39m\u001b[38;5;124m\"\u001b[39m)\n\u001b[1;32m      7\u001b[0m \u001b[38;5;28;01mfor\u001b[39;00m i \u001b[38;5;129;01min\u001b[39;00m \u001b[38;5;28mrange\u001b[39m(\u001b[38;5;241m0\u001b[39m, \u001b[38;5;28mlen\u001b[39m(X), \u001b[38;5;241m3\u001b[39m):\n\u001b[0;32m----> 8\u001b[0m     \u001b[38;5;28mprint\u001b[39m(\u001b[38;5;124mf\u001b[39m\u001b[38;5;124m\"\u001b[39m\u001b[38;5;124mP\u001b[39m\u001b[38;5;132;01m{\u001b[39;00mi\u001b[38;5;241m/\u001b[39m\u001b[38;5;241m/\u001b[39m\u001b[38;5;241m3\u001b[39m\u001b[38;5;250m \u001b[39m\u001b[38;5;241m+\u001b[39m\u001b[38;5;250m \u001b[39m\u001b[38;5;241m1\u001b[39m\u001b[38;5;132;01m}\u001b[39;00m\u001b[38;5;124m: σ_X=\u001b[39m\u001b[38;5;132;01m{\u001b[39;00msigma_x[i]\u001b[38;5;132;01m:\u001b[39;00m\u001b[38;5;124m.3f\u001b[39m\u001b[38;5;132;01m}\u001b[39;00m\u001b[38;5;124m m, σ_Y=\u001b[39m\u001b[38;5;132;01m{\u001b[39;00msigma_x[i\u001b[38;5;241m+\u001b[39m\u001b[38;5;241m1\u001b[39m]\u001b[38;5;132;01m:\u001b[39;00m\u001b[38;5;124m.3f\u001b[39m\u001b[38;5;132;01m}\u001b[39;00m\u001b[38;5;124m m, σ_Z=\u001b[39m\u001b[38;5;132;01m{\u001b[39;00msigma_x[i\u001b[38;5;241m+\u001b[39m\u001b[38;5;241m2\u001b[39m]\u001b[38;5;132;01m:\u001b[39;00m\u001b[38;5;124m.3f\u001b[39m\u001b[38;5;132;01m}\u001b[39;00m\u001b[38;5;124m m\u001b[39m\u001b[38;5;124m\"\u001b[39m)\n\u001b[1;32m     10\u001b[0m \u001b[38;5;28mprint\u001b[39m(\u001b[38;5;124mf\u001b[39m\u001b[38;5;124m\"\u001b[39m\u001b[38;5;130;01m\\n\u001b[39;00m\u001b[38;5;124mVariance of unit weight (σ_0²): \u001b[39m\u001b[38;5;132;01m{\u001b[39;00msigma_0_squared\u001b[38;5;132;01m:\u001b[39;00m\u001b[38;5;124m.4f\u001b[39m\u001b[38;5;132;01m}\u001b[39;00m\u001b[38;5;124m\"\u001b[39m)\n\u001b[1;32m     11\u001b[0m \u001b[38;5;28mprint\u001b[39m(\u001b[38;5;124mf\u001b[39m\u001b[38;5;124m\"\u001b[39m\u001b[38;5;130;01m\\n\u001b[39;00m\u001b[38;5;124mResiduals:\u001b[39m\u001b[38;5;124m\"\u001b[39m)\n",
      "\u001b[0;31mNameError\u001b[0m: name 'sigma_x' is not defined"
     ]
    }
   ],
   "source": [
    "print(f\"Number of iterations: {it}\")\n",
    "print(f\"\\nFinal Coordinates:\")\n",
    "for i in range(0, len(X), 3):\n",
    "    print(f\"P{i//3 + 1}: X={X[i]:.3f} m, Y={X[i+1]:.3f} m, Z={X[i+2]:.3f} m\")\n",
    "\n",
    "print(f\"\\nStandard Deviations:\")\n",
    "for i in range(0, len(X), 3):\n",
    "    print(f\"P{i//3 + 1}: σ_X={sigma_x[i]:.3f} m, σ_Y={sigma_x[i+1]:.3f} m, σ_Z={sigma_x[i+2]:.3f} m\")\n",
    "\n",
    "print(f\"\\nVariance of unit weight (σ_0²): {sigma_0_squared:.4f}\")\n",
    "print(f\"\\nResiduals:\")\n",
    "print(\"Distances (m):\", v[:len(distances)])\n",
    "print(\"Azimuths (rad):\", v[len(distances):len(distances) + len(azimuths)])\n",
    "print(\"Height Differences (m):\", v[len(distances) + len(azimuths):])"
   ]
  },
  {
   "cell_type": "code",
   "execution_count": null,
   "metadata": {},
   "outputs": [],
   "source": []
  }
 ],
 "metadata": {
  "kernelspec": {
   "display_name": "LLM",
   "language": "python",
   "name": "python3"
  },
  "language_info": {
   "codemirror_mode": {
    "name": "ipython",
    "version": 3
   },
   "file_extension": ".py",
   "mimetype": "text/x-python",
   "name": "python",
   "nbconvert_exporter": "python",
   "pygments_lexer": "ipython3",
   "version": "3.9.19"
  }
 },
 "nbformat": 4,
 "nbformat_minor": 2
}
